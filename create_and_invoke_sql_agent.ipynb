{
 "cells": [
  {
   "cell_type": "markdown",
   "id": "77eec934-a3ec-4afd-84b9-f7c0b3947143",
   "metadata": {},
   "source": [
    "# Boto3 SDK를 통해 Amazon Bedrock agent 생성 및 호출\n",
    "\n",
    "> *이 노트북은 SageMaker Studio의 **Data Science 3.0`** 커널과 잘 작동해야 합니다.*"
   ]
  },
  {
   "cell_type": "markdown",
   "id": "020e52a3-d6de-4210-8de2-e825ed1d95e2",
   "metadata": {
    "tags": []
   },
   "source": [
    "## 소개\n",
    "\n",
    "이 노트북은 `bedrock-agent` 및 `bedrock-agent-runtime` boto3 클라이언트를 사용하여 다음을 수행하는 방법을 보여줍니다.\n",
    "- 에이전트 생성\n",
    "- 작업 그룹 생성\n",
    "- 에이전트를 작업 그룹과 연결하고 사용할 수 있도록 준비\n",
    "- 에이전트 별칭 생성\n",
    "- 에이전트 호출\n",
    "\n",
    "우리는 Boto3 API를 통해 Bedrock의 Claude v3 Sonnet을 활용할 것입니다.\n",
    "\n",
    "**Note:** *이 노트북은 AWS 환경 내부와 외부에서 모두 실행되도록 설계되었습니다.*\n",
    "\n",
    "### 필수 조건\n",
    "\n",
    "다음 권한이 있는 AWS 계정이 있는지 확인하세요.\n",
    "- IAM 역할 및 정책 생성 및 관리\n",
    "- AWS Lambda 함수 생성 및 호출\n",
    "- Amazon S3 버킷 생성, 읽기 및 쓰기\n",
    "- Amazon Bedrock 에이전트 및 모델 액세스 및 관리\n",
    "- Amazon Glue 데이터베이스 및 크롤러 생성 및 관리\n",
    "- 쿼리 실행 및 Amazon Athena 작업 공간 관리\n",
    "\n",
    "### Context\n",
    "\n",
    "다음 섹션에서는 Boto3 SDK를 사용하여 Bedrock 에이전트를 만들고 호출하는 방법을 안내합니다.\n",
    "\n",
    "### 사용 사례\n",
    "\n",
    "노트북은 자연어 질문에서 SQL 쿼리를 작성할 수 있는 에이전트를 설정합니다. \n",
    "그런 다음 데이터베이스에서 응답을 검색하여 사용자 문의에 정확한 답변을 제공합니다. \n",
    "아래 다이어그램은 이 솔루션의 아키텍처를 간략하게 설명합니다\n",
    "\n",
    "![sequence-flow-agent](images/text-to-sql-architecture-Athena.png)\n",
    "\n",
    "에이전트는 다음을 위해 설계되었습니다.\n",
    "- 데이터베이스 스키마 검색\n",
    "- SQL 쿼리 실행\n"
   ]
  },
  {
   "cell_type": "code",
   "execution_count": null,
   "id": "5654a5d0",
   "metadata": {},
   "outputs": [],
   "source": [
    "upgrade_output = !pip install --upgrade pip\n",
    "install_boto3_output = !pip install boto3\n",
    "##Ensure your boto3 and botocore libraries are up to date\n",
    "upgrade_output_botocore_boto3= !pip install --upgrade boto3 botocore "
   ]
  },
  {
   "cell_type": "code",
   "execution_count": null,
   "id": "3d27169c-dd6f-448a-b43e-5055930885c2",
   "metadata": {},
   "outputs": [],
   "source": [
    "from dependencies.config import *"
   ]
  },
  {
   "cell_type": "markdown",
   "id": "b28bd60a",
   "metadata": {},
   "source": [
    "사전에 필요한 인프라를 구성합니다.  (IAM Role, Policy 생성 및 맵핑, 람다 함수 등록 )"
   ]
  },
  {
   "cell_type": "code",
   "execution_count": null,
   "id": "4b575b5e-c6d5-424f-9594-4a9473ab7a32",
   "metadata": {
    "tags": []
   },
   "outputs": [],
   "source": [
    "!python ./dependencies/build_infrastructure.py"
   ]
  },
  {
   "cell_type": "markdown",
   "id": "ac0c422d",
   "metadata": {},
   "source": [
    "이 코드는 AWS Bedrock Agent의 특정 Agent와 그에 해당하는 Alias를 찾아 식별자를 추출하는 작업을 수행합니다.\n",
    "\n",
    "1. 의존성 임포트 \n",
    "2. Agent 목록 조회\n",
    "3. Agent ID 찾기\n",
    "4. Agent Alias 목록 조회\n",
    "- 찾은 agent_id에 대한 모든 alias 목록을 조회합니다.\n",
    "5. Agent Alias ID 찾기\n",
    "- 응답에서 특정 agent_alias_name과 일치하는 alias의 ID를 찾습니다.\n",
    "- 찾은 ID를 agent_alias_id 변수에 저장합니다."
   ]
  },
  {
   "cell_type": "code",
   "execution_count": null,
   "id": "f97cef60-771d-4c09-8806-511c5a3aab40",
   "metadata": {
    "tags": []
   },
   "outputs": [],
   "source": [
    "from dependencies.config import *\n",
    "\n",
    "list_agent=bedrock_agent_client.list_agents()['agentSummaries']\n",
    "#print(list_agent)\n",
    "#print(agent_name)\n",
    "# Search f\n",
    "agent_id = next((agent['agentId'] for agent in list_agent if agent['agentName'] == agent_name), None)\n",
    "\n",
    "print(agent_id)\n",
    "\n",
    "response = bedrock_agent_client.list_agent_aliases(\n",
    "    agentId=agent_id,\n",
    ")\n",
    "response['agentAliasSummaries']\n",
    "agentAliasId=next((agent['agentAliasId'] for agent in response['agentAliasSummaries'] if agent['agentAliasName'] == agent_alias_name), None)\n",
    "agent_alias_id=agentAliasId\n",
    "print(agent_alias_id)"
   ]
  },
  {
   "cell_type": "markdown",
   "id": "6e5ea5a7",
   "metadata": {},
   "source": [
    "에이전트 호출\n",
    "\n",
    "이제 에이전트를 만들었으니 `bedrock-agent-runtime` 클라이언트를 사용하여 이 에이전트를 호출하고 몇 가지 작업을 수행해 보겠습니다."
   ]
  },
  {
   "cell_type": "code",
   "execution_count": null,
   "id": "6136d453-a2a0-4f29-b53f-eceb4593dc96",
   "metadata": {
    "tags": []
   },
   "outputs": [],
   "source": [
    "\n",
    "query_to_agent = \"\"\"What was John Denny's salary in 1986?\"\"\"\n",
    "\n",
    "## create a random id for session initiator id\n",
    "session_id:str = str(uuid.uuid1())\n",
    "enable_trace:bool = True\n",
    "end_session:bool = False\n",
    "\n",
    "\n",
    "# invoke the agent API\n",
    "agentResponse = bedrock_agent_runtime_client.invoke_agent(\n",
    "    inputText=query_to_agent,\n",
    "    agentId=agent_id,\n",
    "    agentAliasId=agent_alias_id, \n",
    "    sessionId=session_id,\n",
    "    enableTrace=enable_trace, \n",
    "    endSession= end_session\n",
    ")\n",
    "logger.info(pprint.pprint(agentResponse))"
   ]
  },
  {
   "cell_type": "markdown",
   "id": "80fecee2",
   "metadata": {},
   "source": [
    "AWS Bedrock Agent 응답 스트리밍 처리\n",
    "\n",
    "1. Agent 응답 스트림 처리 시작\n",
    "   event_stream = agentResponse['completion']\n",
    "\n",
    "2. 스트림 이벤트 처리\n",
    "   try-except 구조로 예외 상황 대비\n",
    "   이벤트 타입별 처리:\n",
    "   - chunk: 실제 응답 데이터 (UTF-8 디코딩)\n",
    "   - trace: 디버깅 정보\n",
    "   - 기타: 예상치 못한 이벤트로 예외 처리"
   ]
  },
  {
   "cell_type": "code",
   "execution_count": null,
   "id": "2b4fb987-013a-46bd-bd6b-08b783ac2066",
   "metadata": {
    "tags": []
   },
   "outputs": [],
   "source": [
    "\n",
    "%%time\n",
    "event_stream = agentResponse['completion']\n",
    "try:\n",
    "    for event in event_stream:        \n",
    "        if 'chunk' in event:\n",
    "            data = event['chunk']['bytes']\n",
    "            logger.info(f\"Final answer ->\\n{data.decode('utf8')}\")\n",
    "            agent_answer = data.decode('utf8')\n",
    "            end_event_received = True\n",
    "            # End event indicates that the request finished successfully\n",
    "        elif 'trace' in event:\n",
    "            #logger.info(json.dumps(event['trace'], indent=2))\n",
    "            logger.info(event)\n",
    "        else:\n",
    "            raise Exception(\"unexpected event.\", event)\n",
    "except Exception as e:\n",
    "    raise Exception(\"unexpected event.\", e)"
   ]
  },
  {
   "cell_type": "code",
   "execution_count": null,
   "id": "7516aaf7-0d4d-439e-88c6-537815062302",
   "metadata": {
    "tags": []
   },
   "outputs": [],
   "source": [
    "# 그리고 에이전트의 답변만 보고 싶다면 여기에 답변이 있습니다.\n",
    "print(agent_answer)"
   ]
  },
  {
   "cell_type": "markdown",
   "id": "a72c5676",
   "metadata": {},
   "source": [
    "에이전트를 호출하는 함수 생성"
   ]
  },
  {
   "cell_type": "code",
   "execution_count": null,
   "id": "e96cf44b-08fa-4b8f-9840-57e5a030e37d",
   "metadata": {
    "tags": []
   },
   "outputs": [],
   "source": [
    "\n",
    "def invoke_agent(query):\n",
    "    ## create a random id for session initiator id\n",
    "    session_id:str = str(uuid.uuid1())\n",
    "    enable_trace:bool = False\n",
    "    end_session:bool = False\n",
    " \n",
    "\n",
    "    # 에이전트 API를 호출합니다\n",
    "    agentResponse = bedrock_agent_runtime_client.invoke_agent(\n",
    "        inputText=query,\n",
    "        agentId=agent_id,\n",
    "        agentAliasId=agent_alias_id, \n",
    "        sessionId=session_id,\n",
    "        enableTrace=enable_trace, \n",
    "        endSession= end_session\n",
    "    )\n",
    "    event_stream = agentResponse['completion']\n",
    "    print(\"Fetching answer...\")\n",
    "    try:\n",
    "        for event in event_stream:        \n",
    "            if 'chunk' in event:\n",
    "                data = event['chunk']['bytes']\n",
    "                logger.info(f\"Final answer ->\\n{data.decode('utf8')}\")\n",
    "                agent_answer = data.decode('utf8')\n",
    "                end_event_received = True\n",
    "                # End event indicates that the request finished successfully\n",
    "            elif 'trace' in event:\n",
    "                logger.info(json.dumps(event['trace'], indent=2))\n",
    "            else:\n",
    "                raise Exception(\"unexpected event.\", event)\n",
    "    except Exception as e:\n",
    "        raise Exception(\"unexpected event.\", e)\n",
    "\n"
   ]
  },
  {
   "cell_type": "markdown",
   "id": "3c8b214d",
   "metadata": {},
   "source": [
    "1. 함수 목적\n",
    "- Bedrock Agent에 질의를 보내고 응답을 받는 함수\n",
    "- 특정 질문(Nolan Ryan의 명예의 전당 입성 연도)에 대한 답변 요청\n",
    "\n",
    "2. 매개변수\n",
    "- 문자열 형태의 질문을 인자로 전달\n",
    "- 여기서는 \"What year was Nolan Ryan inducted into the Hall of Fame?\"\n",
    "\n",
    "3. 예상 동작\n",
    "- Agent에 질문을 전송\n",
    "- Agent가 데이터베이스/지식베이스를 검색\n",
    "- 관련 정보를 찾아 응답 생성\n",
    "- 응답을 스트리밍 형태로 반환\n",
    "\n",
    "4. 사용 목적\n",
    "- 야구 관련 정보 조회\n",
    "- 명예의 전당 입성 년도와 같은 구체적 정보 획득"
   ]
  },
  {
   "cell_type": "code",
   "execution_count": null,
   "id": "11f816ea-0380-40de-bec3-c186e67507c9",
   "metadata": {
    "tags": []
   },
   "outputs": [],
   "source": [
    "invoke_agent(\"What year was Nolan Ryan inducted into the Hall of Fame?\")"
   ]
  },
  {
   "cell_type": "markdown",
   "id": "0fd5ac95",
   "metadata": {},
   "source": [
    "invoke_agent() 함수 호출\n",
    "Purpose: MLB 명예의 전당 관련 질의 처리\n",
    "Parameter: \"What year was Nolan Ryan inducted into the Hall of Fame?\"\n",
    "기대값: Nolan Ryan의 명예의 전당 입성 연도 반환\n",
    "\n",
    "Note:\n",
    "- 질문은 명확한 단일 답변이 있는 형태\n",
    "- 영어로 질의/응답 처리\n",
    "- 야구 도메인 특화 질문"
   ]
  },
  {
   "cell_type": "code",
   "execution_count": null,
   "id": "a68e09b7-04b3-4312-9e1b-ace0178c09e3",
   "metadata": {
    "tags": []
   },
   "outputs": [],
   "source": [
    "invoke_agent(\"What year was Nolan Ryan inducted into the Hall of Fame?\")\n"
   ]
  },
  {
   "cell_type": "code",
   "execution_count": null,
   "id": "5e3b5713-7027-4f15-b17f-195906e16ad1",
   "metadata": {
    "tags": []
   },
   "outputs": [],
   "source": [
    "invoke_agent(\"In what year did Hank Aaron hit the most home runs?\")\n"
   ]
  },
  {
   "cell_type": "markdown",
   "id": "0eb3f0e5",
   "metadata": {},
   "source": [
    "이 쿼리는 질문에 답하기 위해 두 테이블의 조인이 필요합니다."
   ]
  },
  {
   "cell_type": "code",
   "execution_count": null,
   "id": "305ca885-4026-459e-9756-0c65fd61a45d",
   "metadata": {
    "tags": []
   },
   "outputs": [],
   "source": [
    "\n",
    "invoke_agent(\"What player has received the most All-Star Game selections?\")"
   ]
  },
  {
   "cell_type": "markdown",
   "id": "5ffa4e6f",
   "metadata": {},
   "source": [
    "이 쿼리의 응답은 올해에 사용 가능한 데이터가 없다고 말해야 합니다!!"
   ]
  },
  {
   "cell_type": "code",
   "execution_count": null,
   "id": "b8571be6",
   "metadata": {},
   "outputs": [],
   "source": [
    "\n",
    "invoke_agent(\"What was Babe Ruth's salary in 1930?\")\n"
   ]
  },
  {
   "cell_type": "code",
   "execution_count": null,
   "id": "ed2e9c2a",
   "metadata": {},
   "outputs": [],
   "source": [
    "invoke_agent(\"Who is the richest player in baseball history? \")\n"
   ]
  },
  {
   "cell_type": "code",
   "execution_count": null,
   "id": "e840c555",
   "metadata": {},
   "outputs": [],
   "source": [
    "invoke_agent(\"What was John Denny's salary in 1986? \")\n"
   ]
  },
  {
   "cell_type": "code",
   "execution_count": null,
   "id": "81d4082d-7421-41ed-8a73-5d96954e621d",
   "metadata": {},
   "outputs": [],
   "source": [
    "# 이렇게 하면 노트북 실행이 중지되고 사용자가 Enter 키를 누를 때까지 기다립니다.\n",
    "input(\"Press Enter to continue...\")\n"
   ]
  },
  {
   "cell_type": "markdown",
   "id": "f44eeb34-2234-4f64-947c-13435a85dcb9",
   "metadata": {
    "tags": []
   },
   "source": [
    "## Clean Up - 리소스 정리 (선택 사항)\n",
    "\n",
    "다음 단계는 선택 사항이며, 우리가 만든 인프라(AWS 리소스)를 삭제합니다.\n",
    "\n"
   ]
  },
  {
   "cell_type": "code",
   "execution_count": null,
   "id": "f88acd54-1ab1-4193-adbe-32bf90dc779e",
   "metadata": {
    "tags": []
   },
   "outputs": [],
   "source": [
    "!python ./dependencies/clean.py"
   ]
  },
  {
   "cell_type": "markdown",
   "id": "6425ce64-6bad-4500-a535-1035bea7da9d",
   "metadata": {},
   "source": [
    "\n",
    "## 결론\n",
    "이제 `boto3` SDK를 사용하여 에이전트를 생성, 호출 및 삭제하는 방법을 실험했습니다.\n",
    "\n",
    "### 요점\n",
    "- 이 노트북을 응용 프로그램에 대한 새 에이전트를 생성하도록 조정\n",
    "\n",
    "## 감사합니다"
   ]
  }
 ],
 "metadata": {
  "availableInstances": [
   {
    "_defaultOrder": 0,
    "_isFastLaunch": true,
    "category": "General purpose",
    "gpuNum": 0,
    "hideHardwareSpecs": false,
    "memoryGiB": 4,
    "name": "ml.t3.medium",
    "vcpuNum": 2
   },
   {
    "_defaultOrder": 1,
    "_isFastLaunch": false,
    "category": "General purpose",
    "gpuNum": 0,
    "hideHardwareSpecs": false,
    "memoryGiB": 8,
    "name": "ml.t3.large",
    "vcpuNum": 2
   },
   {
    "_defaultOrder": 2,
    "_isFastLaunch": false,
    "category": "General purpose",
    "gpuNum": 0,
    "hideHardwareSpecs": false,
    "memoryGiB": 16,
    "name": "ml.t3.xlarge",
    "vcpuNum": 4
   },
   {
    "_defaultOrder": 3,
    "_isFastLaunch": false,
    "category": "General purpose",
    "gpuNum": 0,
    "hideHardwareSpecs": false,
    "memoryGiB": 32,
    "name": "ml.t3.2xlarge",
    "vcpuNum": 8
   },
   {
    "_defaultOrder": 4,
    "_isFastLaunch": true,
    "category": "General purpose",
    "gpuNum": 0,
    "hideHardwareSpecs": false,
    "memoryGiB": 8,
    "name": "ml.m5.large",
    "vcpuNum": 2
   },
   {
    "_defaultOrder": 5,
    "_isFastLaunch": false,
    "category": "General purpose",
    "gpuNum": 0,
    "hideHardwareSpecs": false,
    "memoryGiB": 16,
    "name": "ml.m5.xlarge",
    "vcpuNum": 4
   },
   {
    "_defaultOrder": 6,
    "_isFastLaunch": false,
    "category": "General purpose",
    "gpuNum": 0,
    "hideHardwareSpecs": false,
    "memoryGiB": 32,
    "name": "ml.m5.2xlarge",
    "vcpuNum": 8
   },
   {
    "_defaultOrder": 7,
    "_isFastLaunch": false,
    "category": "General purpose",
    "gpuNum": 0,
    "hideHardwareSpecs": false,
    "memoryGiB": 64,
    "name": "ml.m5.4xlarge",
    "vcpuNum": 16
   },
   {
    "_defaultOrder": 8,
    "_isFastLaunch": false,
    "category": "General purpose",
    "gpuNum": 0,
    "hideHardwareSpecs": false,
    "memoryGiB": 128,
    "name": "ml.m5.8xlarge",
    "vcpuNum": 32
   },
   {
    "_defaultOrder": 9,
    "_isFastLaunch": false,
    "category": "General purpose",
    "gpuNum": 0,
    "hideHardwareSpecs": false,
    "memoryGiB": 192,
    "name": "ml.m5.12xlarge",
    "vcpuNum": 48
   },
   {
    "_defaultOrder": 10,
    "_isFastLaunch": false,
    "category": "General purpose",
    "gpuNum": 0,
    "hideHardwareSpecs": false,
    "memoryGiB": 256,
    "name": "ml.m5.16xlarge",
    "vcpuNum": 64
   },
   {
    "_defaultOrder": 11,
    "_isFastLaunch": false,
    "category": "General purpose",
    "gpuNum": 0,
    "hideHardwareSpecs": false,
    "memoryGiB": 384,
    "name": "ml.m5.24xlarge",
    "vcpuNum": 96
   },
   {
    "_defaultOrder": 12,
    "_isFastLaunch": false,
    "category": "General purpose",
    "gpuNum": 0,
    "hideHardwareSpecs": false,
    "memoryGiB": 8,
    "name": "ml.m5d.large",
    "vcpuNum": 2
   },
   {
    "_defaultOrder": 13,
    "_isFastLaunch": false,
    "category": "General purpose",
    "gpuNum": 0,
    "hideHardwareSpecs": false,
    "memoryGiB": 16,
    "name": "ml.m5d.xlarge",
    "vcpuNum": 4
   },
   {
    "_defaultOrder": 14,
    "_isFastLaunch": false,
    "category": "General purpose",
    "gpuNum": 0,
    "hideHardwareSpecs": false,
    "memoryGiB": 32,
    "name": "ml.m5d.2xlarge",
    "vcpuNum": 8
   },
   {
    "_defaultOrder": 15,
    "_isFastLaunch": false,
    "category": "General purpose",
    "gpuNum": 0,
    "hideHardwareSpecs": false,
    "memoryGiB": 64,
    "name": "ml.m5d.4xlarge",
    "vcpuNum": 16
   },
   {
    "_defaultOrder": 16,
    "_isFastLaunch": false,
    "category": "General purpose",
    "gpuNum": 0,
    "hideHardwareSpecs": false,
    "memoryGiB": 128,
    "name": "ml.m5d.8xlarge",
    "vcpuNum": 32
   },
   {
    "_defaultOrder": 17,
    "_isFastLaunch": false,
    "category": "General purpose",
    "gpuNum": 0,
    "hideHardwareSpecs": false,
    "memoryGiB": 192,
    "name": "ml.m5d.12xlarge",
    "vcpuNum": 48
   },
   {
    "_defaultOrder": 18,
    "_isFastLaunch": false,
    "category": "General purpose",
    "gpuNum": 0,
    "hideHardwareSpecs": false,
    "memoryGiB": 256,
    "name": "ml.m5d.16xlarge",
    "vcpuNum": 64
   },
   {
    "_defaultOrder": 19,
    "_isFastLaunch": false,
    "category": "General purpose",
    "gpuNum": 0,
    "hideHardwareSpecs": false,
    "memoryGiB": 384,
    "name": "ml.m5d.24xlarge",
    "vcpuNum": 96
   },
   {
    "_defaultOrder": 20,
    "_isFastLaunch": false,
    "category": "General purpose",
    "gpuNum": 0,
    "hideHardwareSpecs": true,
    "memoryGiB": 0,
    "name": "ml.geospatial.interactive",
    "supportedImageNames": [
     "sagemaker-geospatial-v1-0"
    ],
    "vcpuNum": 0
   },
   {
    "_defaultOrder": 21,
    "_isFastLaunch": true,
    "category": "Compute optimized",
    "gpuNum": 0,
    "hideHardwareSpecs": false,
    "memoryGiB": 4,
    "name": "ml.c5.large",
    "vcpuNum": 2
   },
   {
    "_defaultOrder": 22,
    "_isFastLaunch": false,
    "category": "Compute optimized",
    "gpuNum": 0,
    "hideHardwareSpecs": false,
    "memoryGiB": 8,
    "name": "ml.c5.xlarge",
    "vcpuNum": 4
   },
   {
    "_defaultOrder": 23,
    "_isFastLaunch": false,
    "category": "Compute optimized",
    "gpuNum": 0,
    "hideHardwareSpecs": false,
    "memoryGiB": 16,
    "name": "ml.c5.2xlarge",
    "vcpuNum": 8
   },
   {
    "_defaultOrder": 24,
    "_isFastLaunch": false,
    "category": "Compute optimized",
    "gpuNum": 0,
    "hideHardwareSpecs": false,
    "memoryGiB": 32,
    "name": "ml.c5.4xlarge",
    "vcpuNum": 16
   },
   {
    "_defaultOrder": 25,
    "_isFastLaunch": false,
    "category": "Compute optimized",
    "gpuNum": 0,
    "hideHardwareSpecs": false,
    "memoryGiB": 72,
    "name": "ml.c5.9xlarge",
    "vcpuNum": 36
   },
   {
    "_defaultOrder": 26,
    "_isFastLaunch": false,
    "category": "Compute optimized",
    "gpuNum": 0,
    "hideHardwareSpecs": false,
    "memoryGiB": 96,
    "name": "ml.c5.12xlarge",
    "vcpuNum": 48
   },
   {
    "_defaultOrder": 27,
    "_isFastLaunch": false,
    "category": "Compute optimized",
    "gpuNum": 0,
    "hideHardwareSpecs": false,
    "memoryGiB": 144,
    "name": "ml.c5.18xlarge",
    "vcpuNum": 72
   },
   {
    "_defaultOrder": 28,
    "_isFastLaunch": false,
    "category": "Compute optimized",
    "gpuNum": 0,
    "hideHardwareSpecs": false,
    "memoryGiB": 192,
    "name": "ml.c5.24xlarge",
    "vcpuNum": 96
   },
   {
    "_defaultOrder": 29,
    "_isFastLaunch": true,
    "category": "Accelerated computing",
    "gpuNum": 1,
    "hideHardwareSpecs": false,
    "memoryGiB": 16,
    "name": "ml.g4dn.xlarge",
    "vcpuNum": 4
   },
   {
    "_defaultOrder": 30,
    "_isFastLaunch": false,
    "category": "Accelerated computing",
    "gpuNum": 1,
    "hideHardwareSpecs": false,
    "memoryGiB": 32,
    "name": "ml.g4dn.2xlarge",
    "vcpuNum": 8
   },
   {
    "_defaultOrder": 31,
    "_isFastLaunch": false,
    "category": "Accelerated computing",
    "gpuNum": 1,
    "hideHardwareSpecs": false,
    "memoryGiB": 64,
    "name": "ml.g4dn.4xlarge",
    "vcpuNum": 16
   },
   {
    "_defaultOrder": 32,
    "_isFastLaunch": false,
    "category": "Accelerated computing",
    "gpuNum": 1,
    "hideHardwareSpecs": false,
    "memoryGiB": 128,
    "name": "ml.g4dn.8xlarge",
    "vcpuNum": 32
   },
   {
    "_defaultOrder": 33,
    "_isFastLaunch": false,
    "category": "Accelerated computing",
    "gpuNum": 4,
    "hideHardwareSpecs": false,
    "memoryGiB": 192,
    "name": "ml.g4dn.12xlarge",
    "vcpuNum": 48
   },
   {
    "_defaultOrder": 34,
    "_isFastLaunch": false,
    "category": "Accelerated computing",
    "gpuNum": 1,
    "hideHardwareSpecs": false,
    "memoryGiB": 256,
    "name": "ml.g4dn.16xlarge",
    "vcpuNum": 64
   },
   {
    "_defaultOrder": 35,
    "_isFastLaunch": false,
    "category": "Accelerated computing",
    "gpuNum": 1,
    "hideHardwareSpecs": false,
    "memoryGiB": 61,
    "name": "ml.p3.2xlarge",
    "vcpuNum": 8
   },
   {
    "_defaultOrder": 36,
    "_isFastLaunch": false,
    "category": "Accelerated computing",
    "gpuNum": 4,
    "hideHardwareSpecs": false,
    "memoryGiB": 244,
    "name": "ml.p3.8xlarge",
    "vcpuNum": 32
   },
   {
    "_defaultOrder": 37,
    "_isFastLaunch": false,
    "category": "Accelerated computing",
    "gpuNum": 8,
    "hideHardwareSpecs": false,
    "memoryGiB": 488,
    "name": "ml.p3.16xlarge",
    "vcpuNum": 64
   },
   {
    "_defaultOrder": 38,
    "_isFastLaunch": false,
    "category": "Accelerated computing",
    "gpuNum": 8,
    "hideHardwareSpecs": false,
    "memoryGiB": 768,
    "name": "ml.p3dn.24xlarge",
    "vcpuNum": 96
   },
   {
    "_defaultOrder": 39,
    "_isFastLaunch": false,
    "category": "Memory Optimized",
    "gpuNum": 0,
    "hideHardwareSpecs": false,
    "memoryGiB": 16,
    "name": "ml.r5.large",
    "vcpuNum": 2
   },
   {
    "_defaultOrder": 40,
    "_isFastLaunch": false,
    "category": "Memory Optimized",
    "gpuNum": 0,
    "hideHardwareSpecs": false,
    "memoryGiB": 32,
    "name": "ml.r5.xlarge",
    "vcpuNum": 4
   },
   {
    "_defaultOrder": 41,
    "_isFastLaunch": false,
    "category": "Memory Optimized",
    "gpuNum": 0,
    "hideHardwareSpecs": false,
    "memoryGiB": 64,
    "name": "ml.r5.2xlarge",
    "vcpuNum": 8
   },
   {
    "_defaultOrder": 42,
    "_isFastLaunch": false,
    "category": "Memory Optimized",
    "gpuNum": 0,
    "hideHardwareSpecs": false,
    "memoryGiB": 128,
    "name": "ml.r5.4xlarge",
    "vcpuNum": 16
   },
   {
    "_defaultOrder": 43,
    "_isFastLaunch": false,
    "category": "Memory Optimized",
    "gpuNum": 0,
    "hideHardwareSpecs": false,
    "memoryGiB": 256,
    "name": "ml.r5.8xlarge",
    "vcpuNum": 32
   },
   {
    "_defaultOrder": 44,
    "_isFastLaunch": false,
    "category": "Memory Optimized",
    "gpuNum": 0,
    "hideHardwareSpecs": false,
    "memoryGiB": 384,
    "name": "ml.r5.12xlarge",
    "vcpuNum": 48
   },
   {
    "_defaultOrder": 45,
    "_isFastLaunch": false,
    "category": "Memory Optimized",
    "gpuNum": 0,
    "hideHardwareSpecs": false,
    "memoryGiB": 512,
    "name": "ml.r5.16xlarge",
    "vcpuNum": 64
   },
   {
    "_defaultOrder": 46,
    "_isFastLaunch": false,
    "category": "Memory Optimized",
    "gpuNum": 0,
    "hideHardwareSpecs": false,
    "memoryGiB": 768,
    "name": "ml.r5.24xlarge",
    "vcpuNum": 96
   },
   {
    "_defaultOrder": 47,
    "_isFastLaunch": false,
    "category": "Accelerated computing",
    "gpuNum": 1,
    "hideHardwareSpecs": false,
    "memoryGiB": 16,
    "name": "ml.g5.xlarge",
    "vcpuNum": 4
   },
   {
    "_defaultOrder": 48,
    "_isFastLaunch": false,
    "category": "Accelerated computing",
    "gpuNum": 1,
    "hideHardwareSpecs": false,
    "memoryGiB": 32,
    "name": "ml.g5.2xlarge",
    "vcpuNum": 8
   },
   {
    "_defaultOrder": 49,
    "_isFastLaunch": false,
    "category": "Accelerated computing",
    "gpuNum": 1,
    "hideHardwareSpecs": false,
    "memoryGiB": 64,
    "name": "ml.g5.4xlarge",
    "vcpuNum": 16
   },
   {
    "_defaultOrder": 50,
    "_isFastLaunch": false,
    "category": "Accelerated computing",
    "gpuNum": 1,
    "hideHardwareSpecs": false,
    "memoryGiB": 128,
    "name": "ml.g5.8xlarge",
    "vcpuNum": 32
   },
   {
    "_defaultOrder": 51,
    "_isFastLaunch": false,
    "category": "Accelerated computing",
    "gpuNum": 1,
    "hideHardwareSpecs": false,
    "memoryGiB": 256,
    "name": "ml.g5.16xlarge",
    "vcpuNum": 64
   },
   {
    "_defaultOrder": 52,
    "_isFastLaunch": false,
    "category": "Accelerated computing",
    "gpuNum": 4,
    "hideHardwareSpecs": false,
    "memoryGiB": 192,
    "name": "ml.g5.12xlarge",
    "vcpuNum": 48
   },
   {
    "_defaultOrder": 53,
    "_isFastLaunch": false,
    "category": "Accelerated computing",
    "gpuNum": 4,
    "hideHardwareSpecs": false,
    "memoryGiB": 384,
    "name": "ml.g5.24xlarge",
    "vcpuNum": 96
   },
   {
    "_defaultOrder": 54,
    "_isFastLaunch": false,
    "category": "Accelerated computing",
    "gpuNum": 8,
    "hideHardwareSpecs": false,
    "memoryGiB": 768,
    "name": "ml.g5.48xlarge",
    "vcpuNum": 192
   },
   {
    "_defaultOrder": 55,
    "_isFastLaunch": false,
    "category": "Accelerated computing",
    "gpuNum": 8,
    "hideHardwareSpecs": false,
    "memoryGiB": 1152,
    "name": "ml.p4d.24xlarge",
    "vcpuNum": 96
   },
   {
    "_defaultOrder": 56,
    "_isFastLaunch": false,
    "category": "Accelerated computing",
    "gpuNum": 8,
    "hideHardwareSpecs": false,
    "memoryGiB": 1152,
    "name": "ml.p4de.24xlarge",
    "vcpuNum": 96
   },
   {
    "_defaultOrder": 57,
    "_isFastLaunch": false,
    "category": "Accelerated computing",
    "gpuNum": 0,
    "hideHardwareSpecs": false,
    "memoryGiB": 32,
    "name": "ml.trn1.2xlarge",
    "vcpuNum": 8
   },
   {
    "_defaultOrder": 58,
    "_isFastLaunch": false,
    "category": "Accelerated computing",
    "gpuNum": 0,
    "hideHardwareSpecs": false,
    "memoryGiB": 512,
    "name": "ml.trn1.32xlarge",
    "vcpuNum": 128
   },
   {
    "_defaultOrder": 59,
    "_isFastLaunch": false,
    "category": "Accelerated computing",
    "gpuNum": 0,
    "hideHardwareSpecs": false,
    "memoryGiB": 512,
    "name": "ml.trn1n.32xlarge",
    "vcpuNum": 128
   }
  ],
  "instance_type": "ml.m5.large",
  "kernelspec": {
   "display_name": "Python 3 (ipykernel)",
   "language": "python",
   "name": "python3"
  },
  "language_info": {
   "codemirror_mode": {
    "name": "ipython",
    "version": 3
   },
   "file_extension": ".py",
   "mimetype": "text/x-python",
   "name": "python",
   "nbconvert_exporter": "python",
   "pygments_lexer": "ipython3",
   "version": "3.11.11"
  }
 },
 "nbformat": 4,
 "nbformat_minor": 5
}
